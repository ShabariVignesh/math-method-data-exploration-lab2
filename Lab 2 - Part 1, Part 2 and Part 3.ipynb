{
 "cells": [
  {
   "cell_type": "markdown",
   "id": "9de06623",
   "metadata": {},
   "source": [
    "# Part 1 #"
   ]
  },
  {
   "cell_type": "markdown",
   "id": "6611160e",
   "metadata": {},
   "source": [
    "# Question 1: Download m1.zip file from the link (https://grouplens.org/datasets/movielens/1m/)  - Completed"
   ]
  },
  {
   "cell_type": "markdown",
   "id": "1709d37c-15c9-41f7-b0e0-d6817533e981",
   "metadata": {
    "noteable": {
     "cell_type": "markdown"
    }
   },
   "source": [
    "# Question 2: Load the movies and ratings dataset."
   ]
  },
  {
   "cell_type": "code",
   "execution_count": 8,
   "id": "0da89a80-1e54-44e4-bd90-f90169e60236",
   "metadata": {
    "ExecuteTime": {
     "end_time": "2023-11-29T19:03:15.657310+00:00",
     "start_time": "2023-11-29T19:03:15.456600+00:00"
    },
    "datalink": {
     "dbeb25fb-75d7-4c80-8363-9f059528be66": {
      "applied_filters": [],
      "dataframe_info": {
       "default_index_used": true,
       "orig_num_cols": 3,
       "orig_num_rows": 5,
       "orig_size_bytes": 160,
       "truncated_num_cols": 3,
       "truncated_num_rows": 5,
       "truncated_size_bytes": 160,
       "truncated_string_columns": []
      },
      "display_id": "dbeb25fb-75d7-4c80-8363-9f059528be66",
      "dx_settings": {
       "ALLOW_NOTEABLE_ATTRS": true,
       "COLUMN_SAMPLING_METHOD": "outer",
       "DB_LOCATION": ":memory:",
       "DEV_MODE": false,
       "DISPLAY_MAX_COLUMNS": 100,
       "DISPLAY_MAX_ROWS": 50000,
       "DISPLAY_MODE": "simple",
       "ENABLE_ASSIGNMENT": true,
       "ENABLE_DATALINK": true,
       "FLATTEN_COLUMN_VALUES": true,
       "FLATTEN_INDEX_VALUES": false,
       "GENERATE_DEX_METADATA": false,
       "HTML_TABLE_SCHEMA": false,
       "LOG_LEVEL": 30,
       "MAX_RENDER_SIZE_BYTES": 104857600,
       "MAX_STRING_LENGTH": 250,
       "NUM_PAST_SAMPLES_TRACKED": 3,
       "RANDOM_STATE": 12648430,
       "RESET_INDEX_VALUES": false,
       "ROW_SAMPLING_METHOD": "random",
       "SAMPLING_FACTOR": 0.1,
       "SAMPLING_METHOD": "random",
       "STRINGIFY_COLUMN_VALUES": true,
       "STRINGIFY_INDEX_VALUES": false
      },
      "sample_history": [],
      "sampling_time": "2023-11-29T19:03:15.495055",
      "user_variable_name": null,
      "variable_name": "unk_dataframe_0408c23416914825ac76c00877b0af06"
     }
    },
    "noteable": {
     "cell_type": "code",
     "output_collection_id": "b41d1189-1e1e-46bc-80a4-9348d5791556"
    }
   },
   "outputs": [
    {
     "data": {
      "text/html": [
       "<div>\n",
       "<style scoped>\n",
       "    .dataframe tbody tr th:only-of-type {\n",
       "        vertical-align: middle;\n",
       "    }\n",
       "\n",
       "    .dataframe tbody tr th {\n",
       "        vertical-align: top;\n",
       "    }\n",
       "\n",
       "    .dataframe thead th {\n",
       "        text-align: right;\n",
       "    }\n",
       "</style>\n",
       "<table border=\"1\" class=\"dataframe\">\n",
       "  <thead>\n",
       "    <tr style=\"text-align: right;\">\n",
       "      <th></th>\n",
       "      <th>MovieID</th>\n",
       "      <th>Title</th>\n",
       "      <th>Genres</th>\n",
       "    </tr>\n",
       "  </thead>\n",
       "  <tbody>\n",
       "    <tr>\n",
       "      <th>0</th>\n",
       "      <td>1</td>\n",
       "      <td>Toy Story (1995)</td>\n",
       "      <td>Animation|Children's|Comedy</td>\n",
       "    </tr>\n",
       "    <tr>\n",
       "      <th>1</th>\n",
       "      <td>2</td>\n",
       "      <td>Jumanji (1995)</td>\n",
       "      <td>Adventure|Children's|Fantasy</td>\n",
       "    </tr>\n",
       "    <tr>\n",
       "      <th>2</th>\n",
       "      <td>3</td>\n",
       "      <td>Grumpier Old Men (1995)</td>\n",
       "      <td>Comedy|Romance</td>\n",
       "    </tr>\n",
       "    <tr>\n",
       "      <th>3</th>\n",
       "      <td>4</td>\n",
       "      <td>Waiting to Exhale (1995)</td>\n",
       "      <td>Comedy|Drama</td>\n",
       "    </tr>\n",
       "    <tr>\n",
       "      <th>4</th>\n",
       "      <td>5</td>\n",
       "      <td>Father of the Bride Part II (1995)</td>\n",
       "      <td>Comedy</td>\n",
       "    </tr>\n",
       "  </tbody>\n",
       "</table>\n",
       "</div>"
      ],
      "text/plain": [
       "   MovieID                               Title                        Genres\n",
       "0        1                    Toy Story (1995)   Animation|Children's|Comedy\n",
       "1        2                      Jumanji (1995)  Adventure|Children's|Fantasy\n",
       "2        3             Grumpier Old Men (1995)                Comedy|Romance\n",
       "3        4            Waiting to Exhale (1995)                  Comedy|Drama\n",
       "4        5  Father of the Bride Part II (1995)                        Comedy"
      ]
     },
     "execution_count": 8,
     "metadata": {},
     "output_type": "execute_result"
    }
   ],
   "source": [
    "import pandas as pd\n",
    "\n",
    "# Load the movies dataset with a different encoding\n",
    "movies_path = 'movies.dat'\n",
    "movies_df = pd.read_csv(movies_path, delimiter='::', header=None, names=['MovieID', 'Title', 'Genres'], engine='python', encoding='ISO-8859-1')\n",
    "movies_df.head()"
   ]
  },
  {
   "cell_type": "code",
   "execution_count": 9,
   "id": "5dab18b6-ea76-4452-a36d-1243c3d2540d",
   "metadata": {
    "ExecuteTime": {
     "end_time": "2023-11-29T19:04:06.164931+00:00",
     "start_time": "2023-11-29T19:04:01.440545+00:00"
    },
    "datalink": {
     "6c2a05ac-d390-45f3-ac47-9bdfee1821a6": {
      "applied_filters": [],
      "dataframe_info": {
       "default_index_used": true,
       "orig_num_cols": 4,
       "orig_num_rows": 5,
       "orig_size_bytes": 200,
       "truncated_num_cols": 4,
       "truncated_num_rows": 5,
       "truncated_size_bytes": 200,
       "truncated_string_columns": []
      },
      "display_id": "6c2a05ac-d390-45f3-ac47-9bdfee1821a6",
      "dx_settings": {
       "ALLOW_NOTEABLE_ATTRS": true,
       "COLUMN_SAMPLING_METHOD": "outer",
       "DB_LOCATION": ":memory:",
       "DEV_MODE": false,
       "DISPLAY_MAX_COLUMNS": 100,
       "DISPLAY_MAX_ROWS": 50000,
       "DISPLAY_MODE": "simple",
       "ENABLE_ASSIGNMENT": true,
       "ENABLE_DATALINK": true,
       "FLATTEN_COLUMN_VALUES": true,
       "FLATTEN_INDEX_VALUES": false,
       "GENERATE_DEX_METADATA": false,
       "HTML_TABLE_SCHEMA": false,
       "LOG_LEVEL": 30,
       "MAX_RENDER_SIZE_BYTES": 104857600,
       "MAX_STRING_LENGTH": 250,
       "NUM_PAST_SAMPLES_TRACKED": 3,
       "RANDOM_STATE": 12648430,
       "RESET_INDEX_VALUES": false,
       "ROW_SAMPLING_METHOD": "random",
       "SAMPLING_FACTOR": 0.1,
       "SAMPLING_METHOD": "random",
       "STRINGIFY_COLUMN_VALUES": true,
       "STRINGIFY_INDEX_VALUES": false
      },
      "sample_history": [],
      "sampling_time": "2023-11-29T19:04:06.005743",
      "user_variable_name": null,
      "variable_name": "unk_dataframe_75e5565fceb94c4fbb5cd23715c1b19e"
     }
    },
    "noteable": {
     "cell_type": "code",
     "output_collection_id": "a494d99f-fe8d-4484-a7e0-a7645633450c"
    }
   },
   "outputs": [
    {
     "data": {
      "text/html": [
       "<div>\n",
       "<style scoped>\n",
       "    .dataframe tbody tr th:only-of-type {\n",
       "        vertical-align: middle;\n",
       "    }\n",
       "\n",
       "    .dataframe tbody tr th {\n",
       "        vertical-align: top;\n",
       "    }\n",
       "\n",
       "    .dataframe thead th {\n",
       "        text-align: right;\n",
       "    }\n",
       "</style>\n",
       "<table border=\"1\" class=\"dataframe\">\n",
       "  <thead>\n",
       "    <tr style=\"text-align: right;\">\n",
       "      <th></th>\n",
       "      <th>UserID</th>\n",
       "      <th>MovieID</th>\n",
       "      <th>Rating</th>\n",
       "      <th>Timestamp</th>\n",
       "    </tr>\n",
       "  </thead>\n",
       "  <tbody>\n",
       "    <tr>\n",
       "      <th>0</th>\n",
       "      <td>1</td>\n",
       "      <td>1193</td>\n",
       "      <td>5</td>\n",
       "      <td>978300760</td>\n",
       "    </tr>\n",
       "    <tr>\n",
       "      <th>1</th>\n",
       "      <td>1</td>\n",
       "      <td>661</td>\n",
       "      <td>3</td>\n",
       "      <td>978302109</td>\n",
       "    </tr>\n",
       "    <tr>\n",
       "      <th>2</th>\n",
       "      <td>1</td>\n",
       "      <td>914</td>\n",
       "      <td>3</td>\n",
       "      <td>978301968</td>\n",
       "    </tr>\n",
       "    <tr>\n",
       "      <th>3</th>\n",
       "      <td>1</td>\n",
       "      <td>3408</td>\n",
       "      <td>4</td>\n",
       "      <td>978300275</td>\n",
       "    </tr>\n",
       "    <tr>\n",
       "      <th>4</th>\n",
       "      <td>1</td>\n",
       "      <td>2355</td>\n",
       "      <td>5</td>\n",
       "      <td>978824291</td>\n",
       "    </tr>\n",
       "  </tbody>\n",
       "</table>\n",
       "</div>"
      ],
      "text/plain": [
       "   UserID  MovieID  Rating  Timestamp\n",
       "0       1     1193       5  978300760\n",
       "1       1      661       3  978302109\n",
       "2       1      914       3  978301968\n",
       "3       1     3408       4  978300275\n",
       "4       1     2355       5  978824291"
      ]
     },
     "execution_count": 9,
     "metadata": {},
     "output_type": "execute_result"
    }
   ],
   "source": [
    "# Load the ratings dataset\n",
    "ratings_path = 'ratings.dat'\n",
    "ratings_df = pd.read_csv(ratings_path, delimiter='::', header=None, names=['UserID', 'MovieID', 'Rating', 'Timestamp'], engine='python', encoding='ISO-8859-1')\n",
    "ratings_df.head()"
   ]
  },
  {
   "cell_type": "markdown",
   "id": "9834e6b2-95a4-431b-994e-11c6f4c2409f",
   "metadata": {
    "noteable": {
     "cell_type": "markdown"
    }
   },
   "source": [
    "# Question 3: What do you mean by Singular Value Decomposition (SVD)?\n",
    "Singular Value Decomposition (SVD) is a mathematical technique used in many signal processing and data compression applications. It decomposes a matrix into three other matrices, named U, S, and V. Here's a brief overview:\n",
    "\n",
    "- **U (Left Singular Vectors):** This is an m x m matrix where 'm' is the number of rows in the original matrix. The columns of U are orthogonal to each other.\n",
    "- **S (Singular Values):** This is a diagonal matrix containing the singular values of the original matrix. These values are non-negative and are usually arranged in descending order.\n",
    "- **V (Right Singular Vectors):** This is an n x n matrix where 'n' is the number of columns in the original matrix. The columns of V are also orthogonal to each other.\n",
    "\n",
    "SVD is particularly useful in the context of recommender systems as it can help in identifying latent features underlying the interactions between users and items."
   ]
  },
  {
   "cell_type": "markdown",
   "id": "519d233c-f6f4-44e2-a41b-e3e0b7fc3cae",
   "metadata": {
    "noteable": {
     "cell_type": "markdown"
    }
   },
   "source": [
    "# Question 4: Explain content-based vs collaborative recommendation.\n",
    "In the realm of recommender systems, there are primarily two approaches: content-based and collaborative filtering. Here's a brief explanation of each:\n",
    "\n",
    "- **Content-Based Recommendation:** This approach recommends items based on their features and how similar these features are to those of items the user has liked in the past. For example, in a movie recommendation system, if a user likes a particular movie, other movies with similar genres, directors, or actors might be recommended.\n",
    "- **Collaborative Filtering:** This method relies on the past behavior of users, rather than the properties of the items themselves. It makes recommendations based on what similar users have liked. There are two types of collaborative filtering: user-based, where recommendations are made based on similarities between users, and item-based, where similarities between items are used for recommendations.\n",
    "\n",
    "Both methods have their strengths and weaknesses. Content-based systems are limited by the need for detailed item descriptions and can lead to a lack of diversity in recommendations. Collaborative filtering, on the other hand, can suffer from the cold start problem (difficulty in recommending items to new users) but can provide more diverse recommendations."
   ]
  },
  {
   "cell_type": "markdown",
   "id": "06abfe91",
   "metadata": {},
   "source": [
    "# Question 5: Create m x u matrix with movies as rows and users as columns. Normalize the matrix."
   ]
  },
  {
   "cell_type": "code",
   "execution_count": 10,
   "id": "4194bbdd",
   "metadata": {},
   "outputs": [
    {
     "data": {
      "text/html": [
       "<div>\n",
       "<style scoped>\n",
       "    .dataframe tbody tr th:only-of-type {\n",
       "        vertical-align: middle;\n",
       "    }\n",
       "\n",
       "    .dataframe tbody tr th {\n",
       "        vertical-align: top;\n",
       "    }\n",
       "\n",
       "    .dataframe thead th {\n",
       "        text-align: right;\n",
       "    }\n",
       "</style>\n",
       "<table border=\"1\" class=\"dataframe\">\n",
       "  <thead>\n",
       "    <tr style=\"text-align: right;\">\n",
       "      <th>UserID</th>\n",
       "      <th>1</th>\n",
       "      <th>2</th>\n",
       "      <th>3</th>\n",
       "      <th>4</th>\n",
       "      <th>5</th>\n",
       "      <th>6</th>\n",
       "      <th>7</th>\n",
       "      <th>8</th>\n",
       "      <th>9</th>\n",
       "      <th>10</th>\n",
       "      <th>...</th>\n",
       "      <th>6031</th>\n",
       "      <th>6032</th>\n",
       "      <th>6033</th>\n",
       "      <th>6034</th>\n",
       "      <th>6035</th>\n",
       "      <th>6036</th>\n",
       "      <th>6037</th>\n",
       "      <th>6038</th>\n",
       "      <th>6039</th>\n",
       "      <th>6040</th>\n",
       "    </tr>\n",
       "    <tr>\n",
       "      <th>MovieID</th>\n",
       "      <th></th>\n",
       "      <th></th>\n",
       "      <th></th>\n",
       "      <th></th>\n",
       "      <th></th>\n",
       "      <th></th>\n",
       "      <th></th>\n",
       "      <th></th>\n",
       "      <th></th>\n",
       "      <th></th>\n",
       "      <th></th>\n",
       "      <th></th>\n",
       "      <th></th>\n",
       "      <th></th>\n",
       "      <th></th>\n",
       "      <th></th>\n",
       "      <th></th>\n",
       "      <th></th>\n",
       "      <th></th>\n",
       "      <th></th>\n",
       "      <th></th>\n",
       "    </tr>\n",
       "  </thead>\n",
       "  <tbody>\n",
       "    <tr>\n",
       "      <th>1</th>\n",
       "      <td>0.853154</td>\n",
       "      <td>0.0</td>\n",
       "      <td>0.0</td>\n",
       "      <td>0.0</td>\n",
       "      <td>0.0</td>\n",
       "      <td>-0.146846</td>\n",
       "      <td>0.0</td>\n",
       "      <td>-0.146846</td>\n",
       "      <td>0.853154</td>\n",
       "      <td>0.853154</td>\n",
       "      <td>...</td>\n",
       "      <td>0.0</td>\n",
       "      <td>-0.146846</td>\n",
       "      <td>0.0</td>\n",
       "      <td>0.0</td>\n",
       "      <td>-0.146846</td>\n",
       "      <td>0.000000</td>\n",
       "      <td>0.0</td>\n",
       "      <td>0.0</td>\n",
       "      <td>0.0</td>\n",
       "      <td>-1.146846</td>\n",
       "    </tr>\n",
       "    <tr>\n",
       "      <th>2</th>\n",
       "      <td>0.000000</td>\n",
       "      <td>0.0</td>\n",
       "      <td>0.0</td>\n",
       "      <td>0.0</td>\n",
       "      <td>0.0</td>\n",
       "      <td>0.000000</td>\n",
       "      <td>0.0</td>\n",
       "      <td>0.000000</td>\n",
       "      <td>0.000000</td>\n",
       "      <td>1.798859</td>\n",
       "      <td>...</td>\n",
       "      <td>0.0</td>\n",
       "      <td>0.000000</td>\n",
       "      <td>0.0</td>\n",
       "      <td>0.0</td>\n",
       "      <td>0.000000</td>\n",
       "      <td>0.000000</td>\n",
       "      <td>0.0</td>\n",
       "      <td>0.0</td>\n",
       "      <td>0.0</td>\n",
       "      <td>0.000000</td>\n",
       "    </tr>\n",
       "    <tr>\n",
       "      <th>3</th>\n",
       "      <td>0.000000</td>\n",
       "      <td>0.0</td>\n",
       "      <td>0.0</td>\n",
       "      <td>0.0</td>\n",
       "      <td>0.0</td>\n",
       "      <td>0.000000</td>\n",
       "      <td>0.0</td>\n",
       "      <td>0.000000</td>\n",
       "      <td>0.000000</td>\n",
       "      <td>0.000000</td>\n",
       "      <td>...</td>\n",
       "      <td>0.0</td>\n",
       "      <td>0.000000</td>\n",
       "      <td>0.0</td>\n",
       "      <td>0.0</td>\n",
       "      <td>-2.016736</td>\n",
       "      <td>0.000000</td>\n",
       "      <td>0.0</td>\n",
       "      <td>0.0</td>\n",
       "      <td>0.0</td>\n",
       "      <td>0.000000</td>\n",
       "    </tr>\n",
       "    <tr>\n",
       "      <th>4</th>\n",
       "      <td>0.000000</td>\n",
       "      <td>0.0</td>\n",
       "      <td>0.0</td>\n",
       "      <td>0.0</td>\n",
       "      <td>0.0</td>\n",
       "      <td>0.000000</td>\n",
       "      <td>0.0</td>\n",
       "      <td>0.270588</td>\n",
       "      <td>0.000000</td>\n",
       "      <td>0.000000</td>\n",
       "      <td>...</td>\n",
       "      <td>0.0</td>\n",
       "      <td>0.000000</td>\n",
       "      <td>0.0</td>\n",
       "      <td>0.0</td>\n",
       "      <td>-0.729412</td>\n",
       "      <td>-0.729412</td>\n",
       "      <td>0.0</td>\n",
       "      <td>0.0</td>\n",
       "      <td>0.0</td>\n",
       "      <td>0.000000</td>\n",
       "    </tr>\n",
       "    <tr>\n",
       "      <th>5</th>\n",
       "      <td>0.000000</td>\n",
       "      <td>0.0</td>\n",
       "      <td>0.0</td>\n",
       "      <td>0.0</td>\n",
       "      <td>0.0</td>\n",
       "      <td>0.000000</td>\n",
       "      <td>0.0</td>\n",
       "      <td>0.000000</td>\n",
       "      <td>0.000000</td>\n",
       "      <td>0.000000</td>\n",
       "      <td>...</td>\n",
       "      <td>0.0</td>\n",
       "      <td>0.000000</td>\n",
       "      <td>0.0</td>\n",
       "      <td>0.0</td>\n",
       "      <td>-2.006757</td>\n",
       "      <td>0.000000</td>\n",
       "      <td>0.0</td>\n",
       "      <td>0.0</td>\n",
       "      <td>0.0</td>\n",
       "      <td>0.000000</td>\n",
       "    </tr>\n",
       "  </tbody>\n",
       "</table>\n",
       "<p>5 rows × 6040 columns</p>\n",
       "</div>"
      ],
      "text/plain": [
       "UserID       1     2     3     4     5         6     7         8         9     \\\n",
       "MovieID                                                                         \n",
       "1        0.853154   0.0   0.0   0.0   0.0 -0.146846   0.0 -0.146846  0.853154   \n",
       "2        0.000000   0.0   0.0   0.0   0.0  0.000000   0.0  0.000000  0.000000   \n",
       "3        0.000000   0.0   0.0   0.0   0.0  0.000000   0.0  0.000000  0.000000   \n",
       "4        0.000000   0.0   0.0   0.0   0.0  0.000000   0.0  0.270588  0.000000   \n",
       "5        0.000000   0.0   0.0   0.0   0.0  0.000000   0.0  0.000000  0.000000   \n",
       "\n",
       "UserID       10    ...  6031      6032  6033  6034      6035      6036  6037  \\\n",
       "MovieID            ...                                                         \n",
       "1        0.853154  ...   0.0 -0.146846   0.0   0.0 -0.146846  0.000000   0.0   \n",
       "2        1.798859  ...   0.0  0.000000   0.0   0.0  0.000000  0.000000   0.0   \n",
       "3        0.000000  ...   0.0  0.000000   0.0   0.0 -2.016736  0.000000   0.0   \n",
       "4        0.000000  ...   0.0  0.000000   0.0   0.0 -0.729412 -0.729412   0.0   \n",
       "5        0.000000  ...   0.0  0.000000   0.0   0.0 -2.006757  0.000000   0.0   \n",
       "\n",
       "UserID   6038  6039      6040  \n",
       "MovieID                        \n",
       "1         0.0   0.0 -1.146846  \n",
       "2         0.0   0.0  0.000000  \n",
       "3         0.0   0.0  0.000000  \n",
       "4         0.0   0.0  0.000000  \n",
       "5         0.0   0.0  0.000000  \n",
       "\n",
       "[5 rows x 6040 columns]"
      ]
     },
     "execution_count": 10,
     "metadata": {},
     "output_type": "execute_result"
    }
   ],
   "source": [
    "# Question 4: Create m x u matrix with movies as rows and users as columns. Normalize the matrix.\n",
    "\n",
    "# Creating the matrix\n",
    "movie_user_matrix = ratings_df.pivot_table(index='MovieID', columns='UserID', values='Rating')\n",
    "\n",
    "# Normalizing the matrix\n",
    "# Replace NaN values with 0 and normalize ratings by subtracting the mean rating for each movie\n",
    "normalized_movie_user_matrix = movie_user_matrix.subtract(movie_user_matrix.mean(axis=1), axis=0).fillna(0)\n",
    "normalized_movie_user_matrix.head()"
   ]
  },
  {
   "cell_type": "markdown",
   "id": "8e2bd509-03e1-42b9-9d95-67314145e9e2",
   "metadata": {
    "noteable": {
     "cell_type": "markdown"
    }
   },
   "source": [
    "# Question 6: Perform SVD to get U, S and V."
   ]
  },
  {
   "cell_type": "code",
   "execution_count": 11,
   "id": "ec087d64-820b-4121-bcee-e992aca3d97f",
   "metadata": {
    "ExecuteTime": {
     "end_time": "2023-11-29T21:24:31.278109+00:00",
     "start_time": "2023-11-29T20:18:47.815995+00:00"
    },
    "jupyter": {
     "outputs_hidden": false
    },
    "noteable": {
     "cell_type": "code",
     "output_collection_id": "ef515613-034f-4325-b708-49f8d6826cae"
    }
   },
   "outputs": [
    {
     "data": {
      "text/plain": [
       "((3706, 3706), (3706,), (3706, 6040))"
      ]
     },
     "execution_count": 11,
     "metadata": {},
     "output_type": "execute_result"
    }
   ],
   "source": [
    "# Question 5: Perform SVD to get U, S and V.\n",
    "\n",
    "from scipy.linalg import svd\n",
    "\n",
    "# Performing SVD\n",
    "U, S, V = svd(normalized_movie_user_matrix, full_matrices=False)\n",
    "\n",
    "# Displaying the shapes of U, S, and V\n",
    "(U.shape, S.shape, V.shape)"
   ]
  },
  {
   "cell_type": "markdown",
   "id": "81a89db4-0afd-4483-a2bb-4c76953e3c6a",
   "metadata": {
    "noteable": {
     "cell_type": "markdown"
    }
   },
   "source": [
    "# Question 7: Select top 50 components from S."
   ]
  },
  {
   "cell_type": "code",
   "execution_count": 12,
   "id": "eea22c02-4372-449b-af6a-0868e461615e",
   "metadata": {
    "ExecuteTime": {
     "end_time": "2023-11-29T21:58:40.780091+00:00",
     "start_time": "2023-11-29T21:58:40.623418+00:00"
    },
    "noteable": {
     "cell_type": "code",
     "output_collection_id": "e864e32a-6e15-4fb1-9f5c-245c2529db5d"
    }
   },
   "outputs": [
    {
     "data": {
      "text/plain": [
       "array([192.45495882, 120.29886173,  91.97754319,  90.07818261,\n",
       "        83.68879172,  79.25645974,  75.97577682,  72.01597523,\n",
       "        67.70076973,  66.276083  ,  62.70307543,  61.20309872,\n",
       "        59.13757747,  59.02139615,  57.82004784,  57.59866935,\n",
       "        56.53577981,  55.757909  ,  54.87098843,  54.1814038 ,\n",
       "        54.16749249,  53.34809711,  52.33478637,  52.21848165,\n",
       "        52.04836715,  51.70148677,  51.29468085,  50.6544242 ,\n",
       "        50.49480204,  50.27222596,  50.14459573,  49.56447493,\n",
       "        49.20120544,  49.01967174,  48.90775086,  48.81444785,\n",
       "        48.52825628,  48.13501234,  47.99117967,  47.66613327,\n",
       "        47.63083539,  47.37299971,  47.13510471,  46.91007338,\n",
       "        46.84438292,  46.55033443,  46.33755999,  46.08300395,\n",
       "        45.89532946,  45.83881921])"
      ]
     },
     "execution_count": 12,
     "metadata": {},
     "output_type": "execute_result"
    }
   ],
   "source": [
    "# Question 6: Select top 50 components from S.\n",
    "\n",
    "# Assuming SVD has been completed and S is available\n",
    "# Selecting the top 50 singular values\n",
    "S_top_50 = S[:50]\n",
    "\n",
    "# Display the top 50 singular values\n",
    "S_top_50"
   ]
  },
  {
   "cell_type": "markdown",
   "id": "f639ddab-66a5-48c2-a819-cb2092611709",
   "metadata": {
    "noteable": {
     "cell_type": "markdown"
    }
   },
   "source": [
    "# Question 8: Get the top 50 eigenvectors using eigenvalues."
   ]
  },
  {
   "cell_type": "code",
   "execution_count": 13,
   "id": "afc0a3c1-c22b-43ad-9648-a6d20d521e1a",
   "metadata": {
    "ExecuteTime": {
     "end_time": "2023-11-29T21:48:16.117789+00:00",
     "start_time": "2023-11-29T21:48:15.960876+00:00"
    },
    "noteable": {
     "cell_type": "code",
     "output_collection_id": "b2052aa1-a738-4948-b6fb-141a4d69ad1c"
    }
   },
   "outputs": [
    {
     "data": {
      "text/plain": [
       "array([[ 0.05179239, -0.02555312,  0.10372925, ...,  0.04162046,\n",
       "        -0.03981344, -0.06894826],\n",
       "       [ 0.0367097 ,  0.02608375, -0.00538194, ..., -0.00684685,\n",
       "         0.012607  ,  0.02999918],\n",
       "       [ 0.0211739 ,  0.01813263, -0.00691349, ..., -0.02103039,\n",
       "        -0.01887794, -0.01192695],\n",
       "       ...,\n",
       "       [ 0.00123223, -0.00056325,  0.00097465, ..., -0.00094206,\n",
       "        -0.00013659,  0.00226342],\n",
       "       [ 0.0013494 , -0.00169988, -0.00180864, ..., -0.00330001,\n",
       "        -0.00129024,  0.00029846],\n",
       "       [ 0.01131512, -0.00701695, -0.0034568 , ...,  0.00101197,\n",
       "         0.00206611, -0.00534414]])"
      ]
     },
     "execution_count": 13,
     "metadata": {},
     "output_type": "execute_result"
    }
   ],
   "source": [
    "# Question 7: Get the top 50 eigenvectors using eigenvalues.\n",
    "\n",
    "# Assuming SVD has been completed and U, S, V are available\n",
    "# Selecting the top 50 eigenvectors from U\n",
    "U_top_50 = U[:, :50]\n",
    "\n",
    "# Display the top 50 eigenvectors\n",
    "U_top_50"
   ]
  },
  {
   "cell_type": "markdown",
   "id": "ce7ffea7-835a-4f7a-ade2-35af217034ab",
   "metadata": {
    "noteable": {
     "cell_type": "markdown"
    }
   },
   "source": [
    "# Question 9: Using cosine similarity, find 10 closest movies using the 50 components from SVD."
   ]
  },
  {
   "cell_type": "code",
   "execution_count": 14,
   "id": "578270e1-9d90-4f35-a933-b68c42c2ee4b",
   "metadata": {
    "ExecuteTime": {
     "end_time": "2023-11-29T21:47:42.146350+00:00",
     "start_time": "2023-11-29T21:47:28.380416+00:00"
    },
    "datalink": {
     "022765ea-5d5c-41ed-af14-b7d1f3312543": {
      "applied_filters": [],
      "dataframe_info": {
       "default_index_used": true,
       "orig_num_cols": 3,
       "orig_num_rows": 10,
       "orig_size_bytes": 320,
       "truncated_num_cols": 3,
       "truncated_num_rows": 10,
       "truncated_size_bytes": 320,
       "truncated_string_columns": []
      },
      "display_id": "022765ea-5d5c-41ed-af14-b7d1f3312543",
      "dx_settings": {
       "ALLOW_NOTEABLE_ATTRS": true,
       "COLUMN_SAMPLING_METHOD": "outer",
       "DB_LOCATION": ":memory:",
       "DEV_MODE": false,
       "DISPLAY_MAX_COLUMNS": 100,
       "DISPLAY_MAX_ROWS": 50000,
       "DISPLAY_MODE": "simple",
       "ENABLE_ASSIGNMENT": true,
       "ENABLE_DATALINK": true,
       "FLATTEN_COLUMN_VALUES": true,
       "FLATTEN_INDEX_VALUES": false,
       "GENERATE_DEX_METADATA": false,
       "HTML_TABLE_SCHEMA": false,
       "LOG_LEVEL": 30,
       "MAX_RENDER_SIZE_BYTES": 104857600,
       "MAX_STRING_LENGTH": 250,
       "NUM_PAST_SAMPLES_TRACKED": 3,
       "RANDOM_STATE": 12648430,
       "RESET_INDEX_VALUES": false,
       "ROW_SAMPLING_METHOD": "random",
       "SAMPLING_FACTOR": 0.1,
       "SAMPLING_METHOD": "random",
       "STRINGIFY_COLUMN_VALUES": true,
       "STRINGIFY_INDEX_VALUES": false
      },
      "sample_history": [],
      "sampling_time": "2023-11-29T21:40:42.259494",
      "user_variable_name": null,
      "variable_name": "unk_dataframe_49f1320369d240e38e1e35d8c4120361"
     },
     "47927dee-b683-446d-9c51-b08290525d3a": {
      "applied_filters": [],
      "dataframe_info": {
       "default_index_used": true,
       "orig_num_cols": 3,
       "orig_num_rows": 10,
       "orig_size_bytes": 320,
       "truncated_num_cols": 3,
       "truncated_num_rows": 10,
       "truncated_size_bytes": 320,
       "truncated_string_columns": []
      },
      "display_id": "47927dee-b683-446d-9c51-b08290525d3a",
      "dx_settings": {
       "ALLOW_NOTEABLE_ATTRS": true,
       "COLUMN_SAMPLING_METHOD": "outer",
       "DB_LOCATION": ":memory:",
       "DEV_MODE": false,
       "DISPLAY_MAX_COLUMNS": 100,
       "DISPLAY_MAX_ROWS": 50000,
       "DISPLAY_MODE": "simple",
       "ENABLE_ASSIGNMENT": true,
       "ENABLE_DATALINK": true,
       "FLATTEN_COLUMN_VALUES": true,
       "FLATTEN_INDEX_VALUES": false,
       "GENERATE_DEX_METADATA": false,
       "HTML_TABLE_SCHEMA": false,
       "LOG_LEVEL": 30,
       "MAX_RENDER_SIZE_BYTES": 104857600,
       "MAX_STRING_LENGTH": 250,
       "NUM_PAST_SAMPLES_TRACKED": 3,
       "RANDOM_STATE": 12648430,
       "RESET_INDEX_VALUES": false,
       "ROW_SAMPLING_METHOD": "random",
       "SAMPLING_FACTOR": 0.1,
       "SAMPLING_METHOD": "random",
       "STRINGIFY_COLUMN_VALUES": true,
       "STRINGIFY_INDEX_VALUES": false
      },
      "sample_history": [],
      "sampling_time": "2023-11-29T21:47:41.986323",
      "user_variable_name": null,
      "variable_name": "unk_dataframe_4baa0c9fbc8540e5aa1ce23b96298dba"
     }
    },
    "noteable": {
     "cell_type": "code",
     "output_collection_id": "bf6fa7c9-3734-4d0c-9bbc-0c50a473ab9a"
    }
   },
   "outputs": [
    {
     "data": {
      "text/html": [
       "<div>\n",
       "<style scoped>\n",
       "    .dataframe tbody tr th:only-of-type {\n",
       "        vertical-align: middle;\n",
       "    }\n",
       "\n",
       "    .dataframe tbody tr th {\n",
       "        vertical-align: top;\n",
       "    }\n",
       "\n",
       "    .dataframe thead th {\n",
       "        text-align: right;\n",
       "    }\n",
       "</style>\n",
       "<table border=\"1\" class=\"dataframe\">\n",
       "  <thead>\n",
       "    <tr style=\"text-align: right;\">\n",
       "      <th></th>\n",
       "      <th>MovieID</th>\n",
       "      <th>Title</th>\n",
       "      <th>Genres</th>\n",
       "    </tr>\n",
       "  </thead>\n",
       "  <tbody>\n",
       "    <tr>\n",
       "      <th>0</th>\n",
       "      <td>1</td>\n",
       "      <td>Toy Story (1995)</td>\n",
       "      <td>Animation|Children's|Comedy</td>\n",
       "    </tr>\n",
       "    <tr>\n",
       "      <th>2898</th>\n",
       "      <td>2967</td>\n",
       "      <td>Bad Seed, The (1956)</td>\n",
       "      <td>Drama|Thriller</td>\n",
       "    </tr>\n",
       "    <tr>\n",
       "      <th>574</th>\n",
       "      <td>578</td>\n",
       "      <td>Hour of the Pig, The (1993)</td>\n",
       "      <td>Drama|Mystery</td>\n",
       "    </tr>\n",
       "    <tr>\n",
       "      <th>2162</th>\n",
       "      <td>2231</td>\n",
       "      <td>Rounders (1998)</td>\n",
       "      <td>Crime|Drama</td>\n",
       "    </tr>\n",
       "    <tr>\n",
       "      <th>33</th>\n",
       "      <td>34</td>\n",
       "      <td>Babe (1995)</td>\n",
       "      <td>Children's|Comedy|Drama</td>\n",
       "    </tr>\n",
       "    <tr>\n",
       "      <th>581</th>\n",
       "      <td>585</td>\n",
       "      <td>Brady Bunch Movie, The (1995)</td>\n",
       "      <td>Comedy</td>\n",
       "    </tr>\n",
       "    <tr>\n",
       "      <th>3627</th>\n",
       "      <td>3696</td>\n",
       "      <td>Night of the Creeps (1986)</td>\n",
       "      <td>Comedy|Horror|Sci-Fi</td>\n",
       "    </tr>\n",
       "    <tr>\n",
       "      <th>1900</th>\n",
       "      <td>1969</td>\n",
       "      <td>Nightmare on Elm Street Part 2: Freddy's Reven...</td>\n",
       "      <td>Horror</td>\n",
       "    </tr>\n",
       "    <tr>\n",
       "      <th>2556</th>\n",
       "      <td>2625</td>\n",
       "      <td>Black Mask (Hak hap) (1996)</td>\n",
       "      <td>Action</td>\n",
       "    </tr>\n",
       "    <tr>\n",
       "      <th>354</th>\n",
       "      <td>358</td>\n",
       "      <td>Higher Learning (1995)</td>\n",
       "      <td>Drama</td>\n",
       "    </tr>\n",
       "  </tbody>\n",
       "</table>\n",
       "</div>"
      ],
      "text/plain": [
       "      MovieID                                              Title  \\\n",
       "0           1                                   Toy Story (1995)   \n",
       "2898     2967                               Bad Seed, The (1956)   \n",
       "574       578                        Hour of the Pig, The (1993)   \n",
       "2162     2231                                    Rounders (1998)   \n",
       "33         34                                        Babe (1995)   \n",
       "581       585                      Brady Bunch Movie, The (1995)   \n",
       "3627     3696                         Night of the Creeps (1986)   \n",
       "1900     1969  Nightmare on Elm Street Part 2: Freddy's Reven...   \n",
       "2556     2625                        Black Mask (Hak hap) (1996)   \n",
       "354       358                             Higher Learning (1995)   \n",
       "\n",
       "                           Genres  \n",
       "0     Animation|Children's|Comedy  \n",
       "2898               Drama|Thriller  \n",
       "574                 Drama|Mystery  \n",
       "2162                  Crime|Drama  \n",
       "33        Children's|Comedy|Drama  \n",
       "581                        Comedy  \n",
       "3627         Comedy|Horror|Sci-Fi  \n",
       "1900                       Horror  \n",
       "2556                       Action  \n",
       "354                         Drama  "
      ]
     },
     "execution_count": 14,
     "metadata": {},
     "output_type": "execute_result"
    }
   ],
   "source": [
    "# Question 8: Using cosine similarity, find 10 closest movies using the 50 components from SVD.\n",
    "\n",
    "from sklearn.metrics.pairwise import cosine_similarity\n",
    "\n",
    "# Assuming SVD has been completed and U_top_50 is available\n",
    "# Compute cosine similarity\n",
    "similarity_matrix = cosine_similarity(U_top_50)\n",
    "\n",
    "# Function to find the 10 closest movies\n",
    "def find_closest_movies(movie_id, similarity_matrix, movies_df, top_n=10):\n",
    "    movie_idx = movies_df.index[movies_df['MovieID'] == movie_id].tolist()[0]\n",
    "    movie_similarities = similarity_matrix[movie_idx]\n",
    "    similar_movies_idx = movie_similarities.argsort()[-top_n:][::-1]\n",
    "    return movies_df.iloc[similar_movies_idx]\n",
    "\n",
    "# Example: Find 10 closest movies to a specific movie ID\n",
    "find_closest_movies(1, similarity_matrix, movies_df)"
   ]
  },
  {
   "cell_type": "markdown",
   "id": "db49d0e8-6069-4eaa-8158-80b706586192",
   "metadata": {
    "noteable": {
     "cell_type": "markdown"
    }
   },
   "source": [
    "# Question 10: Discuss results of above SVD methods.\n",
    "\n",
    "The Singular Value Decomposition (SVD) method applied to the movie-user matrix in this recommender system has yielded insightful results. Here are the key points from the analysis:\n",
    "\n",
    "1. **Significance of SVD**: SVD helped in decomposing the original matrix into three matrices (U, S, and V), capturing the latent features in the data. This decomposition is crucial for understanding the underlying patterns in user preferences and movie characteristics.\n",
    "\n",
    "2. **Top 50 Components**: The selection of the top 50 components from the S matrix represents the most significant patterns in the data. These components are the strongest in terms of explaining the variance in user ratings, thus being most informative for recommendations.\n",
    "\n",
    "3. **Top 50 Eigenvectors**: The top 50 eigenvectors from the U matrix represent the most significant user preferences and movie features. These eigenvectors are instrumental in identifying similarities between movies and users.\n",
    "\n",
    "4. **Cosine Similarity Results**: The application of cosine similarity on the top 50 components provided a practical way to find similar movies. This approach is beneficial for making recommendations, as it identifies movies that are close in the feature space defined by the top SVD components.\n",
    "\n",
    "Overall, the SVD method has proven to be a powerful tool for extracting meaningful patterns from the movie-user ratings data, enabling the construction of a more nuanced and effective recommender system."
   ]
  },
  {
   "cell_type": "markdown",
   "id": "0fa009cc",
   "metadata": {},
   "source": [
    "# Part 2"
   ]
  },
  {
   "cell_type": "markdown",
   "id": "4943ae03",
   "metadata": {},
   "source": [
    "# Q2: House Prices Prediction"
   ]
  },
  {
   "cell_type": "markdown",
   "id": "fe408555",
   "metadata": {},
   "source": [
    "# 1. Start by importing the dataset and exploring its structure"
   ]
  },
  {
   "cell_type": "code",
   "execution_count": 17,
   "id": "11226ebe",
   "metadata": {},
   "outputs": [
    {
     "data": {
      "text/html": [
       "<div>\n",
       "<style scoped>\n",
       "    .dataframe tbody tr th:only-of-type {\n",
       "        vertical-align: middle;\n",
       "    }\n",
       "\n",
       "    .dataframe tbody tr th {\n",
       "        vertical-align: top;\n",
       "    }\n",
       "\n",
       "    .dataframe thead th {\n",
       "        text-align: right;\n",
       "    }\n",
       "</style>\n",
       "<table border=\"1\" class=\"dataframe\">\n",
       "  <thead>\n",
       "    <tr style=\"text-align: right;\">\n",
       "      <th></th>\n",
       "      <th>date</th>\n",
       "      <th>bedrooms</th>\n",
       "      <th>bathrooms</th>\n",
       "      <th>sqft_living</th>\n",
       "      <th>sqft_lot</th>\n",
       "      <th>floors</th>\n",
       "      <th>waterfront</th>\n",
       "      <th>view</th>\n",
       "      <th>condition</th>\n",
       "      <th>sqft_above</th>\n",
       "      <th>sqft_basement</th>\n",
       "      <th>yr_built</th>\n",
       "      <th>yr_renovated</th>\n",
       "      <th>SalesPrice</th>\n",
       "    </tr>\n",
       "  </thead>\n",
       "  <tbody>\n",
       "    <tr>\n",
       "      <th>0</th>\n",
       "      <td>5/2/14 0:00</td>\n",
       "      <td>3</td>\n",
       "      <td>1.50</td>\n",
       "      <td>1340</td>\n",
       "      <td>7912</td>\n",
       "      <td>1.5</td>\n",
       "      <td>0</td>\n",
       "      <td>0</td>\n",
       "      <td>3</td>\n",
       "      <td>1340</td>\n",
       "      <td>0</td>\n",
       "      <td>1955</td>\n",
       "      <td>2005</td>\n",
       "      <td>313000.0</td>\n",
       "    </tr>\n",
       "    <tr>\n",
       "      <th>1</th>\n",
       "      <td>5/2/14 0:00</td>\n",
       "      <td>5</td>\n",
       "      <td>2.50</td>\n",
       "      <td>3650</td>\n",
       "      <td>9050</td>\n",
       "      <td>2.0</td>\n",
       "      <td>0</td>\n",
       "      <td>4</td>\n",
       "      <td>5</td>\n",
       "      <td>3370</td>\n",
       "      <td>280</td>\n",
       "      <td>1921</td>\n",
       "      <td>0</td>\n",
       "      <td>2384000.0</td>\n",
       "    </tr>\n",
       "    <tr>\n",
       "      <th>2</th>\n",
       "      <td>5/2/14 0:00</td>\n",
       "      <td>3</td>\n",
       "      <td>2.00</td>\n",
       "      <td>1930</td>\n",
       "      <td>11947</td>\n",
       "      <td>1.0</td>\n",
       "      <td>0</td>\n",
       "      <td>0</td>\n",
       "      <td>4</td>\n",
       "      <td>1930</td>\n",
       "      <td>0</td>\n",
       "      <td>1966</td>\n",
       "      <td>0</td>\n",
       "      <td>342000.0</td>\n",
       "    </tr>\n",
       "    <tr>\n",
       "      <th>3</th>\n",
       "      <td>5/2/14 0:00</td>\n",
       "      <td>3</td>\n",
       "      <td>2.25</td>\n",
       "      <td>2000</td>\n",
       "      <td>8030</td>\n",
       "      <td>1.0</td>\n",
       "      <td>0</td>\n",
       "      <td>0</td>\n",
       "      <td>4</td>\n",
       "      <td>1000</td>\n",
       "      <td>1000</td>\n",
       "      <td>1963</td>\n",
       "      <td>0</td>\n",
       "      <td>420000.0</td>\n",
       "    </tr>\n",
       "    <tr>\n",
       "      <th>4</th>\n",
       "      <td>5/2/14 0:00</td>\n",
       "      <td>4</td>\n",
       "      <td>2.50</td>\n",
       "      <td>1940</td>\n",
       "      <td>10500</td>\n",
       "      <td>1.0</td>\n",
       "      <td>0</td>\n",
       "      <td>0</td>\n",
       "      <td>4</td>\n",
       "      <td>1140</td>\n",
       "      <td>800</td>\n",
       "      <td>1976</td>\n",
       "      <td>1992</td>\n",
       "      <td>550000.0</td>\n",
       "    </tr>\n",
       "  </tbody>\n",
       "</table>\n",
       "</div>"
      ],
      "text/plain": [
       "          date  bedrooms  bathrooms  sqft_living  sqft_lot  floors  \\\n",
       "0  5/2/14 0:00         3       1.50         1340      7912     1.5   \n",
       "1  5/2/14 0:00         5       2.50         3650      9050     2.0   \n",
       "2  5/2/14 0:00         3       2.00         1930     11947     1.0   \n",
       "3  5/2/14 0:00         3       2.25         2000      8030     1.0   \n",
       "4  5/2/14 0:00         4       2.50         1940     10500     1.0   \n",
       "\n",
       "   waterfront  view  condition  sqft_above  sqft_basement  yr_built  \\\n",
       "0           0     0          3        1340              0      1955   \n",
       "1           0     4          5        3370            280      1921   \n",
       "2           0     0          4        1930              0      1966   \n",
       "3           0     0          4        1000           1000      1963   \n",
       "4           0     0          4        1140            800      1976   \n",
       "\n",
       "   yr_renovated  SalesPrice  \n",
       "0          2005    313000.0  \n",
       "1             0   2384000.0  \n",
       "2             0    342000.0  \n",
       "3             0    420000.0  \n",
       "4          1992    550000.0  "
      ]
     },
     "execution_count": 17,
     "metadata": {},
     "output_type": "execute_result"
    }
   ],
   "source": [
    "import pandas as pd\n",
    "\n",
    "# Load the dataset\n",
    "file_path = 'HousePrice.csv'\n",
    "data = pd.read_csv(file_path)\n",
    "\n",
    "# Display the first few rows of the dataset to understand its structure\n",
    "data.head()"
   ]
  },
  {
   "cell_type": "markdown",
   "id": "26d20350",
   "metadata": {},
   "source": [
    "# 2. Identifying Features and Target Variable\n",
    "\n",
    "Features: The features of the dataset include all the columns except for SalesPrice. These are characteristics of the houses, like bedrooms, bathrooms, sqft_living, sqft_lot, floors, etc.\n",
    "Target Variable: The target variable is SalesPrice, which represents the sale price of each house.\n"
   ]
  },
  {
   "cell_type": "markdown",
   "id": "59e8a538",
   "metadata": {},
   "source": [
    "# 3. How many samples are in the dataset? Are there any missing values? "
   ]
  },
  {
   "cell_type": "code",
   "execution_count": 18,
   "id": "bb732d2a",
   "metadata": {},
   "outputs": [
    {
     "name": "stdout",
     "output_type": "stream",
     "text": [
      "Sample Size : (4600, 14)\n",
      "Missing Values : date             0\n",
      "bedrooms         0\n",
      "bathrooms        0\n",
      "sqft_living      0\n",
      "sqft_lot         0\n",
      "floors           0\n",
      "waterfront       0\n",
      "view             0\n",
      "condition        0\n",
      "sqft_above       0\n",
      "sqft_basement    0\n",
      "yr_built         0\n",
      "yr_renovated     0\n",
      "SalesPrice       0\n",
      "dtype: int64\n"
     ]
    }
   ],
   "source": [
    "# Checking the size of the dataset and for missing values\n",
    "dataset_size = data.shape\n",
    "print(\"Sample Size :\",dataset_size)\n",
    "missing_values = data.isnull().sum()\n",
    "\n",
    "print(\"Missing Values :\",missing_values)"
   ]
  },
  {
   "cell_type": "markdown",
   "id": "ef0681ec",
   "metadata": {},
   "source": [
    "The dataset contains 4,600 samples and 14 columns. There are no missing values in any of the columns"
   ]
  },
  {
   "cell_type": "markdown",
   "id": "14c7c360",
   "metadata": {},
   "source": [
    "# 4. Summarize the dataset. Min, max, avg, std dev, etc. stats for continuous features."
   ]
  },
  {
   "cell_type": "code",
   "execution_count": 19,
   "id": "42c060e2",
   "metadata": {},
   "outputs": [
    {
     "data": {
      "text/html": [
       "<div>\n",
       "<style scoped>\n",
       "    .dataframe tbody tr th:only-of-type {\n",
       "        vertical-align: middle;\n",
       "    }\n",
       "\n",
       "    .dataframe tbody tr th {\n",
       "        vertical-align: top;\n",
       "    }\n",
       "\n",
       "    .dataframe thead th {\n",
       "        text-align: right;\n",
       "    }\n",
       "</style>\n",
       "<table border=\"1\" class=\"dataframe\">\n",
       "  <thead>\n",
       "    <tr style=\"text-align: right;\">\n",
       "      <th></th>\n",
       "      <th>bedrooms</th>\n",
       "      <th>bathrooms</th>\n",
       "      <th>sqft_living</th>\n",
       "      <th>sqft_lot</th>\n",
       "      <th>floors</th>\n",
       "      <th>waterfront</th>\n",
       "      <th>view</th>\n",
       "      <th>condition</th>\n",
       "      <th>sqft_above</th>\n",
       "      <th>sqft_basement</th>\n",
       "      <th>yr_built</th>\n",
       "      <th>yr_renovated</th>\n",
       "      <th>SalesPrice</th>\n",
       "    </tr>\n",
       "  </thead>\n",
       "  <tbody>\n",
       "    <tr>\n",
       "      <th>count</th>\n",
       "      <td>4600.000000</td>\n",
       "      <td>4600.000000</td>\n",
       "      <td>4600.000000</td>\n",
       "      <td>4.600000e+03</td>\n",
       "      <td>4600.000000</td>\n",
       "      <td>4600.000000</td>\n",
       "      <td>4600.000000</td>\n",
       "      <td>4600.000000</td>\n",
       "      <td>4600.000000</td>\n",
       "      <td>4600.000000</td>\n",
       "      <td>4600.000000</td>\n",
       "      <td>4600.000000</td>\n",
       "      <td>4.600000e+03</td>\n",
       "    </tr>\n",
       "    <tr>\n",
       "      <th>mean</th>\n",
       "      <td>3.400870</td>\n",
       "      <td>2.160815</td>\n",
       "      <td>2139.346957</td>\n",
       "      <td>1.485252e+04</td>\n",
       "      <td>1.512065</td>\n",
       "      <td>0.007174</td>\n",
       "      <td>0.240652</td>\n",
       "      <td>3.451739</td>\n",
       "      <td>1827.265435</td>\n",
       "      <td>312.081522</td>\n",
       "      <td>1970.786304</td>\n",
       "      <td>808.608261</td>\n",
       "      <td>5.519630e+05</td>\n",
       "    </tr>\n",
       "    <tr>\n",
       "      <th>std</th>\n",
       "      <td>0.908848</td>\n",
       "      <td>0.783781</td>\n",
       "      <td>963.206916</td>\n",
       "      <td>3.588444e+04</td>\n",
       "      <td>0.538288</td>\n",
       "      <td>0.084404</td>\n",
       "      <td>0.778405</td>\n",
       "      <td>0.677230</td>\n",
       "      <td>862.168977</td>\n",
       "      <td>464.137228</td>\n",
       "      <td>29.731848</td>\n",
       "      <td>979.414536</td>\n",
       "      <td>5.638347e+05</td>\n",
       "    </tr>\n",
       "    <tr>\n",
       "      <th>min</th>\n",
       "      <td>0.000000</td>\n",
       "      <td>0.000000</td>\n",
       "      <td>370.000000</td>\n",
       "      <td>6.380000e+02</td>\n",
       "      <td>1.000000</td>\n",
       "      <td>0.000000</td>\n",
       "      <td>0.000000</td>\n",
       "      <td>1.000000</td>\n",
       "      <td>370.000000</td>\n",
       "      <td>0.000000</td>\n",
       "      <td>1900.000000</td>\n",
       "      <td>0.000000</td>\n",
       "      <td>0.000000e+00</td>\n",
       "    </tr>\n",
       "    <tr>\n",
       "      <th>25%</th>\n",
       "      <td>3.000000</td>\n",
       "      <td>1.750000</td>\n",
       "      <td>1460.000000</td>\n",
       "      <td>5.000750e+03</td>\n",
       "      <td>1.000000</td>\n",
       "      <td>0.000000</td>\n",
       "      <td>0.000000</td>\n",
       "      <td>3.000000</td>\n",
       "      <td>1190.000000</td>\n",
       "      <td>0.000000</td>\n",
       "      <td>1951.000000</td>\n",
       "      <td>0.000000</td>\n",
       "      <td>3.228750e+05</td>\n",
       "    </tr>\n",
       "    <tr>\n",
       "      <th>50%</th>\n",
       "      <td>3.000000</td>\n",
       "      <td>2.250000</td>\n",
       "      <td>1980.000000</td>\n",
       "      <td>7.683000e+03</td>\n",
       "      <td>1.500000</td>\n",
       "      <td>0.000000</td>\n",
       "      <td>0.000000</td>\n",
       "      <td>3.000000</td>\n",
       "      <td>1590.000000</td>\n",
       "      <td>0.000000</td>\n",
       "      <td>1976.000000</td>\n",
       "      <td>0.000000</td>\n",
       "      <td>4.609435e+05</td>\n",
       "    </tr>\n",
       "    <tr>\n",
       "      <th>75%</th>\n",
       "      <td>4.000000</td>\n",
       "      <td>2.500000</td>\n",
       "      <td>2620.000000</td>\n",
       "      <td>1.100125e+04</td>\n",
       "      <td>2.000000</td>\n",
       "      <td>0.000000</td>\n",
       "      <td>0.000000</td>\n",
       "      <td>4.000000</td>\n",
       "      <td>2300.000000</td>\n",
       "      <td>610.000000</td>\n",
       "      <td>1997.000000</td>\n",
       "      <td>1999.000000</td>\n",
       "      <td>6.549625e+05</td>\n",
       "    </tr>\n",
       "    <tr>\n",
       "      <th>max</th>\n",
       "      <td>9.000000</td>\n",
       "      <td>8.000000</td>\n",
       "      <td>13540.000000</td>\n",
       "      <td>1.074218e+06</td>\n",
       "      <td>3.500000</td>\n",
       "      <td>1.000000</td>\n",
       "      <td>4.000000</td>\n",
       "      <td>5.000000</td>\n",
       "      <td>9410.000000</td>\n",
       "      <td>4820.000000</td>\n",
       "      <td>2014.000000</td>\n",
       "      <td>2014.000000</td>\n",
       "      <td>2.659000e+07</td>\n",
       "    </tr>\n",
       "  </tbody>\n",
       "</table>\n",
       "</div>"
      ],
      "text/plain": [
       "          bedrooms    bathrooms   sqft_living      sqft_lot       floors  \\\n",
       "count  4600.000000  4600.000000   4600.000000  4.600000e+03  4600.000000   \n",
       "mean      3.400870     2.160815   2139.346957  1.485252e+04     1.512065   \n",
       "std       0.908848     0.783781    963.206916  3.588444e+04     0.538288   \n",
       "min       0.000000     0.000000    370.000000  6.380000e+02     1.000000   \n",
       "25%       3.000000     1.750000   1460.000000  5.000750e+03     1.000000   \n",
       "50%       3.000000     2.250000   1980.000000  7.683000e+03     1.500000   \n",
       "75%       4.000000     2.500000   2620.000000  1.100125e+04     2.000000   \n",
       "max       9.000000     8.000000  13540.000000  1.074218e+06     3.500000   \n",
       "\n",
       "        waterfront         view    condition   sqft_above  sqft_basement  \\\n",
       "count  4600.000000  4600.000000  4600.000000  4600.000000    4600.000000   \n",
       "mean      0.007174     0.240652     3.451739  1827.265435     312.081522   \n",
       "std       0.084404     0.778405     0.677230   862.168977     464.137228   \n",
       "min       0.000000     0.000000     1.000000   370.000000       0.000000   \n",
       "25%       0.000000     0.000000     3.000000  1190.000000       0.000000   \n",
       "50%       0.000000     0.000000     3.000000  1590.000000       0.000000   \n",
       "75%       0.000000     0.000000     4.000000  2300.000000     610.000000   \n",
       "max       1.000000     4.000000     5.000000  9410.000000    4820.000000   \n",
       "\n",
       "          yr_built  yr_renovated    SalesPrice  \n",
       "count  4600.000000   4600.000000  4.600000e+03  \n",
       "mean   1970.786304    808.608261  5.519630e+05  \n",
       "std      29.731848    979.414536  5.638347e+05  \n",
       "min    1900.000000      0.000000  0.000000e+00  \n",
       "25%    1951.000000      0.000000  3.228750e+05  \n",
       "50%    1976.000000      0.000000  4.609435e+05  \n",
       "75%    1997.000000   1999.000000  6.549625e+05  \n",
       "max    2014.000000   2014.000000  2.659000e+07  "
      ]
     },
     "execution_count": 19,
     "metadata": {},
     "output_type": "execute_result"
    }
   ],
   "source": [
    "# Summarizing the dataset for continuous features\n",
    "summary_statistics = data.describe()\n",
    "summary_statistics"
   ]
  },
  {
   "cell_type": "markdown",
   "id": "2e349df5",
   "metadata": {},
   "source": [
    "Here's a summary of the continuous features in the dataset:\n",
    "\n",
    "1.bedrooms:\n",
    "Mean: 3.40\n",
    "Std: 0.91\n",
    "Min: 0\n",
    "Max: 9\n",
    "    \n",
    "2.bathrooms:\n",
    "Mean: 2.16\n",
    "Std: 0.78\n",
    "Min: 0\n",
    "Max: 8\n",
    "    \n",
    "3.sqft_living:\n",
    "Mean: 2139.35\n",
    "Std: 963.21\n",
    "Min: 370\n",
    "Max: 13540\n",
    "    \n",
    "4.sqft_lot:\n",
    "Mean: 14852.52\n",
    "Std: 35884.44\n",
    "Min: 638\n",
    "Max: 1074218\n",
    "    \n",
    "5.floors:\n",
    "Mean: 1.51\n",
    "Std: 0.54\n",
    "Min: 1\n",
    "Max: 3.5\n",
    "    \n",
    "6.sqft_above:\n",
    "Mean: 1827.27\n",
    "Std: 862.17\n",
    "Min: 370\n",
    "Max: 9410\n",
    "    \n",
    "7.sqft_basement:\n",
    "Mean: 312.08\n",
    "Std: 464.14\n",
    "Min: 0\n",
    "Max: 4820'\n",
    "    \n",
    "8.yr_built:\n",
    "Mean: 1970.79\n",
    "Std: 29.73\n",
    "Min: 1900\n",
    "Max: 2014\n",
    "    \n",
    "9.yr_renovated:\n",
    "Mean: 808.61\n",
    "Std: 979.41\n",
    "Min: 0\n",
    "Max: 2014\n",
    "    \n",
    "10.SalesPrice:\n",
    "Mean: $551,963\n",
    "Std: $563,834.70\n",
    "Min: $0\n",
    "Max: $26,590,000\n"
   ]
  },
  {
   "cell_type": "markdown",
   "id": "792db176",
   "metadata": {},
   "source": [
    "# 5. Visualize the distribution of each feature (sqft_living, sqft_lot, floors, SalesPrice)"
   ]
  },
  {
   "cell_type": "code",
   "execution_count": 21,
   "id": "5cb94a09",
   "metadata": {},
   "outputs": [
    {
     "data": {
      "image/png": "[encoded data removed]",
      "text/plain": [
       "<Figure size 1400x1000 with 4 Axes>"
      ]
     },
     "metadata": {},
     "output_type": "display_data"
    }
   ],
   "source": [
    "import matplotlib.pyplot as plt\n",
    "import seaborn as sns\n",
    "\n",
    "# Setting up the aesthetics for the plots\n",
    "sns.set(style=\"whitegrid\")\n",
    "\n",
    "# Creating subplots\n",
    "fig, axes = plt.subplots(nrows=2, ncols=2, figsize=(14, 10))\n",
    "\n",
    "# Plotting the distribution of each feature\n",
    "sns.histplot(data['sqft_living'], bins=30, ax=axes[0, 0], kde=True)\n",
    "axes[0, 0].set_title('Distribution of sqft_living')\n",
    "\n",
    "sns.histplot(data['sqft_lot'], bins=30, ax=axes[0, 1], kde=True)\n",
    "axes[0, 1].set_title('Distribution of sqft_lot')\n",
    "\n",
    "sns.histplot(data['floors'], bins=30, ax=axes[1, 0], kde=True)\n",
    "axes[1, 0].set_title('Distribution of floors')\n",
    "\n",
    "sns.histplot(data['SalesPrice'], bins=30, ax=axes[1, 1], kde=True)\n",
    "axes[1, 1].set_title('Distribution of SalesPrice')\n",
    "\n",
    "plt.tight_layout()\n",
    "plt.show()"
   ]
  },
  {
   "cell_type": "markdown",
   "id": "1378283a",
   "metadata": {},
   "source": [
    "1. sqft_living: The distribution is right-skewed, indicating that most houses have a living area smaller than the average, with a few houses having significantly larger living areas.\n",
    "2. sqft_lot: This distribution is also right-skewed, with most lots being smaller in size. There are some properties with exceptionally large lot sizes.\n",
    "3. floors: The majority of houses have either 1 or 2 floors, with a smaller number having 1.5 or 3 floors.\n",
    "4. SalesPrice: The sales price distribution is heavily right-skewed, showing that most houses are priced below the average, with a few houses having very high prices."
   ]
  },
  {
   "cell_type": "markdown",
   "id": "5a8256b6",
   "metadata": {},
   "source": [
    "Linear Regression (Single Variable)"
   ]
  },
  {
   "cell_type": "markdown",
   "id": "3684ed71",
   "metadata": {},
   "source": [
    "\n",
    "# 6. Implement your own linear regression model using the \"sqft_lot\" feature as the independent variable and \"SalePrice\" as the target variable. Print coef and intercept."
   ]
  },
  {
   "cell_type": "code",
   "execution_count": 22,
   "id": "279ebd50",
   "metadata": {},
   "outputs": [
    {
     "data": {
      "text/plain": [
       "(0.7927166756315298, 540189.1512958275)"
      ]
     },
     "execution_count": 22,
     "metadata": {},
     "output_type": "execute_result"
    }
   ],
   "source": [
    "import numpy as np\n",
    "from sklearn.linear_model import LinearRegression\n",
    "\n",
    "# Preparing the data for linear regression\n",
    "X = data[['sqft_lot']]  # Independent variable\n",
    "y = data['SalesPrice']  # Dependent variable\n",
    "\n",
    "# Implementing Linear Regression\n",
    "model = LinearRegression()\n",
    "model.fit(X, y)\n",
    "\n",
    "# Coefficients and Intercept\n",
    "coef = model.coef_[0]\n",
    "intercept = model.intercept_\n",
    "\n",
    "coef, intercept"
   ]
  },
  {
   "cell_type": "markdown",
   "id": "84ce7b1d",
   "metadata": {},
   "source": [
    "For the linear regression model with \"sqft_lot\" as the independent variable and \"SalesPrice\" as the target:\n",
    "\n",
    "1. Coefficient (slope) of \"sqft_lot\": ≈ 0.79\n",
    "2. Intercept: ≈ 540,189.15\n",
    "3. This implies that for every additional square foot in lot size, the sales price increases by approximately $0.79, assuming all other factors remain constan"
   ]
  },
  {
   "cell_type": "markdown",
   "id": "4a748795",
   "metadata": {},
   "source": [
    "# 7. Calculate the sum of squared errors for your model."
   ]
  },
  {
   "cell_type": "code",
   "execution_count": 38,
   "id": "8d16b312",
   "metadata": {},
   "outputs": [
    {
     "data": {
      "text/plain": [
       "1458344675295682.8"
      ]
     },
     "execution_count": 38,
     "metadata": {},
     "output_type": "execute_result"
    }
   ],
   "source": [
    "# Predicting values\n",
    "y_pred = model.predict(X)\n",
    "\n",
    "# Calculating Sum of Squared Errors (SSE)\n",
    "sse = np.sum((y - y_pred) ** 2)\n",
    "sse"
   ]
  },
  {
   "cell_type": "markdown",
   "id": "bbfc847e",
   "metadata": {},
   "source": [
    "The sum of squared errors (SSE) for the linear regression model is approximately 1.458 × 1015"
   ]
  }
 ],
 "metadata": {
  "kernel_info": {
   "name": "python3"
  },
  "kernelspec": {
   "display_name": "Python 3 (ipykernel)",
   "language": "python",
   "name": "python3"
  },
  "language_info": {
   "codemirror_mode": {
    "name": "ipython",
    "version": 3
   },
   "file_extension": ".py",
   "mimetype": "text/x-python",
   "name": "python",
   "nbconvert_exporter": "python",
   "pygments_lexer": "ipython3",
   "version": "3.11.4"
  },
  "noteable-chatgpt": {
   "create_notebook": {
    "openai_conversation_id": "f58e87fd-5175-54da-ba51-5745e9d5a406",
    "openai_ephemeral_user_id": "c9ca28f6-a7d3-5d07-b1c3-2e65baed576f",
    "openai_subdivision1_iso_code": "US-CA"
   }
  },
  "selected_hardware_size": "small"
 },
 "nbformat": 4,
 "nbformat_minor": 5
}
